{
 "cells": [
  {
   "cell_type": "markdown",
   "metadata": {},
   "source": [
    "## Dataset\n",
    "\n",
    "In this homework, we will use the Laptops price dataset from Kaggle."
   ]
  },
  {
   "cell_type": "code",
   "execution_count": 3,
   "metadata": {},
   "outputs": [
    {
     "name": "stdout",
     "output_type": "stream",
     "text": [
      "                                              Laptop Status   Brand  \\\n",
      "0  ASUS ExpertBook B1 B1502CBA-EJ0436X Intel Core...    New    Asus   \n",
      "1  Alurin Go Start Intel Celeron N4020/8GB/256GB ...    New  Alurin   \n",
      "2  ASUS ExpertBook B1 B1502CBA-EJ0424X Intel Core...    New    Asus   \n",
      "3  MSI Katana GF66 12UC-082XES Intel Core i7-1270...    New     MSI   \n",
      "4  HP 15S-FQ5085NS Intel Core i5-1235U/16GB/512GB...    New      HP   \n",
      "\n",
      "        Model            CPU  RAM  Storage Storage type       GPU  Screen  \\\n",
      "0  ExpertBook  Intel Core i5    8      512          SSD       NaN    15.6   \n",
      "1          Go  Intel Celeron    8      256          SSD       NaN    15.6   \n",
      "2  ExpertBook  Intel Core i3    8      256          SSD       NaN    15.6   \n",
      "3      Katana  Intel Core i7   16     1000          SSD  RTX 3050    15.6   \n",
      "4         15S  Intel Core i5   16      512          SSD       NaN    15.6   \n",
      "\n",
      "  Touch  Final Price  \n",
      "0    No      1009.00  \n",
      "1    No       299.00  \n",
      "2    No       789.00  \n",
      "3    No      1199.00  \n",
      "4    No       669.01  \n"
     ]
    }
   ],
   "source": [
    "import pandas as pd\n",
    "\n",
    "# Load the dataset\n",
    "url = 'https://raw.githubusercontent.com/alexeygrigorev/datasets/master/laptops.csv'\n",
    "df = pd.read_csv(url)\n",
    "\n",
    "# Check the first few rows to confirm the data loaded correctly\n",
    "print(df.head())\n"
   ]
  },
  {
   "cell_type": "markdown",
   "metadata": {},
   "source": [
    "## Preparing the dataset\n",
    "\n",
    "First, we'll normalize the names of the columns:"
   ]
  },
  {
   "cell_type": "code",
   "execution_count": 4,
   "metadata": {},
   "outputs": [
    {
     "name": "stdout",
     "output_type": "stream",
     "text": [
      "Index(['laptop', 'status', 'brand', 'model', 'cpu', 'ram', 'storage',\n",
      "       'storage_type', 'gpu', 'screen', 'touch', 'final_price'],\n",
      "      dtype='object')\n"
     ]
    }
   ],
   "source": [
    "# Apply changes to the column names\n",
    "df.columns = df.columns.str.lower().str.replace(' ', '_')\n",
    "\n",
    "# Display the modified column names\n",
    "print(df.columns)\n"
   ]
  },
  {
   "cell_type": "markdown",
   "metadata": {},
   "source": [
    "## Next, use only the following columns:\n",
    "\n",
    "'ram',\n",
    "'storage',\n",
    "'screen',\n",
    "'final_price'"
   ]
  },
  {
   "cell_type": "code",
   "execution_count": 5,
   "metadata": {},
   "outputs": [
    {
     "name": "stdout",
     "output_type": "stream",
     "text": [
      "   ram  storage  screen  final_price\n",
      "0    8      512    15.6      1009.00\n",
      "1    8      256    15.6       299.00\n",
      "2    8      256    15.6       789.00\n",
      "3   16     1000    15.6      1199.00\n",
      "4   16      512    15.6       669.01\n"
     ]
    }
   ],
   "source": [
    "# Keep only the selected columns\n",
    "df_filtered = df[['ram', 'storage', 'screen', 'final_price']]\n",
    "\n",
    "# Display the first few rows of the filtered DataFrame to verify\n",
    "print(df_filtered.head())\n"
   ]
  },
  {
   "cell_type": "markdown",
   "metadata": {},
   "source": [
    "## EDA\n",
    "\n",
    "Look at the final_price variable. Does it have a long tail?"
   ]
  },
  {
   "cell_type": "code",
   "execution_count": 7,
   "metadata": {},
   "outputs": [
    {
     "data": {
      "image/png": "[encoded data removed]",
      "text/plain": [
       "<Figure size 600x400 with 1 Axes>"
      ]
     },
     "metadata": {},
     "output_type": "display_data"
    }
   ],
   "source": [
    "import matplotlib.pyplot as plt\n",
    "\n",
    "# Plot histogram of final_price\n",
    "plt.figure(figsize=(6, 4))\n",
    "plt.hist(df_filtered['final_price'], bins=50, color='skyblue', edgecolor='black')\n",
    "plt.title('Distribution of Final Price')\n",
    "plt.xlabel('Final Price')\n",
    "plt.ylabel('Frequency')\n",
    "plt.show()\n"
   ]
  },
  {
   "cell_type": "markdown",
   "metadata": {},
   "source": [
    "## Question 1\n",
    "\n",
    "There's one column with missing values. What is it?"
   ]
  },
  {
   "cell_type": "code",
   "execution_count": 9,
   "metadata": {},
   "outputs": [
    {
     "name": "stdout",
     "output_type": "stream",
     "text": [
      "screen    4\n",
      "dtype: int64\n"
     ]
    }
   ],
   "source": [
    "# Check for missing values in each column\n",
    "missing_values = df_filtered.isnull().sum()\n",
    "\n",
    "# Display columns with missing values\n",
    "print(missing_values[missing_values > 0])\n",
    "\n"
   ]
  },
  {
   "cell_type": "markdown",
   "metadata": {},
   "source": [
    "## Question 2\n",
    "\n",
    "What's the median (50% percentile) for variable 'ram'?"
   ]
  },
  {
   "cell_type": "code",
   "execution_count": 10,
   "metadata": {},
   "outputs": [
    {
     "name": "stdout",
     "output_type": "stream",
     "text": [
      "Median RAM: 16.0\n"
     ]
    }
   ],
   "source": [
    "# Calculate the median for the 'ram' column\n",
    "median_ram = df_filtered['ram'].median()\n",
    "\n",
    "# Display the result\n",
    "print(\"Median RAM:\", median_ram)\n"
   ]
  },
  {
   "cell_type": "markdown",
   "metadata": {},
   "source": [
    "## Prepare and split the dataset\n",
    "\n",
    "Shuffle the dataset (the filtered one you created above), use seed 42.\n",
    "\n",
    "Split your data in train/val/test sets, with 60%/20%/20% distribution."
   ]
  },
  {
   "cell_type": "code",
   "execution_count": 11,
   "metadata": {},
   "outputs": [
    {
     "data": {
      "text/html": [
       "<div>\n",
       "<style scoped>\n",
       "    .dataframe tbody tr th:only-of-type {\n",
       "        vertical-align: middle;\n",
       "    }\n",
       "\n",
       "    .dataframe tbody tr th {\n",
       "        vertical-align: top;\n",
       "    }\n",
       "\n",
       "    .dataframe thead th {\n",
       "        text-align: right;\n",
       "    }\n",
       "</style>\n",
       "<table border=\"1\" class=\"dataframe\">\n",
       "  <thead>\n",
       "    <tr style=\"text-align: right;\">\n",
       "      <th></th>\n",
       "      <th>ram</th>\n",
       "      <th>storage</th>\n",
       "      <th>screen</th>\n",
       "      <th>final_price</th>\n",
       "    </tr>\n",
       "  </thead>\n",
       "  <tbody>\n",
       "    <tr>\n",
       "      <th>count</th>\n",
       "      <td>2160.000000</td>\n",
       "      <td>2160.000000</td>\n",
       "      <td>2156.000000</td>\n",
       "      <td>2160.000000</td>\n",
       "    </tr>\n",
       "    <tr>\n",
       "      <th>mean</th>\n",
       "      <td>15.413889</td>\n",
       "      <td>596.294444</td>\n",
       "      <td>15.168112</td>\n",
       "      <td>1312.638509</td>\n",
       "    </tr>\n",
       "    <tr>\n",
       "      <th>std</th>\n",
       "      <td>9.867815</td>\n",
       "      <td>361.220506</td>\n",
       "      <td>1.203329</td>\n",
       "      <td>911.475417</td>\n",
       "    </tr>\n",
       "    <tr>\n",
       "      <th>min</th>\n",
       "      <td>4.000000</td>\n",
       "      <td>0.000000</td>\n",
       "      <td>10.100000</td>\n",
       "      <td>201.050000</td>\n",
       "    </tr>\n",
       "    <tr>\n",
       "      <th>25%</th>\n",
       "      <td>8.000000</td>\n",
       "      <td>256.000000</td>\n",
       "      <td>14.000000</td>\n",
       "      <td>661.082500</td>\n",
       "    </tr>\n",
       "    <tr>\n",
       "      <th>50%</th>\n",
       "      <td>16.000000</td>\n",
       "      <td>512.000000</td>\n",
       "      <td>15.600000</td>\n",
       "      <td>1031.945000</td>\n",
       "    </tr>\n",
       "    <tr>\n",
       "      <th>75%</th>\n",
       "      <td>16.000000</td>\n",
       "      <td>1000.000000</td>\n",
       "      <td>15.600000</td>\n",
       "      <td>1708.970000</td>\n",
       "    </tr>\n",
       "    <tr>\n",
       "      <th>max</th>\n",
       "      <td>128.000000</td>\n",
       "      <td>4000.000000</td>\n",
       "      <td>18.000000</td>\n",
       "      <td>7150.470000</td>\n",
       "    </tr>\n",
       "  </tbody>\n",
       "</table>\n",
       "</div>"
      ],
      "text/plain": [
       "               ram      storage       screen  final_price\n",
       "count  2160.000000  2160.000000  2156.000000  2160.000000\n",
       "mean     15.413889   596.294444    15.168112  1312.638509\n",
       "std       9.867815   361.220506     1.203329   911.475417\n",
       "min       4.000000     0.000000    10.100000   201.050000\n",
       "25%       8.000000   256.000000    14.000000   661.082500\n",
       "50%      16.000000   512.000000    15.600000  1031.945000\n",
       "75%      16.000000  1000.000000    15.600000  1708.970000\n",
       "max     128.000000  4000.000000    18.000000  7150.470000"
      ]
     },
     "execution_count": 11,
     "metadata": {},
     "output_type": "execute_result"
    }
   ],
   "source": [
    "df.describe()"
   ]
  },
  {
   "cell_type": "code",
   "execution_count": 18,
   "metadata": {},
   "outputs": [
    {
     "name": "stdout",
     "output_type": "stream",
     "text": [
      "Number of training examples: 1296\n",
      "Number of validation examples: 432\n",
      "Number of test examples: 432\n",
      "Training DataFrame:\n",
      "                                                 laptop       status    brand  \\\n",
      "2079  MSI Modern 15 A11SBU-620XES Intel Core i7-1165...  Refurbished      MSI   \n",
      "668   Thomson Neo White Intel Celeron N4020/4GB/64GB...          New  Thomson   \n",
      "2073  MSI Modern 14 B11SB-420XES Intel Core i7-1165G...  Refurbished      MSI   \n",
      "1113  ASUS ZenBook 13 OLED UX325EA Intel Evo Core i7...          New     Asus   \n",
      "788   Acer Predator Triton 500 SE PT516-51s-75K6 Int...          New     Acer   \n",
      "\n",
      "         model                cpu  ram  storage storage_type       gpu  \\\n",
      "2079    Modern      Intel Core i7   32     1000          SSD    MX 450   \n",
      "668        Neo      Intel Celeron    4       64         eMMC       NaN   \n",
      "2073    Modern      Intel Core i7   32     1000          SSD    MX 450   \n",
      "1113   ZenBook  Intel Evo Core i7   16      512          SSD       NaN   \n",
      "788   Predator      Intel Core i7   32     1000          SSD  RTX 3080   \n",
      "\n",
      "      screen touch  final_price  \n",
      "2079    15.6    No      1123.29  \n",
      "668     14.1    No       201.05  \n",
      "2073    14.0    No       997.74  \n",
      "1113    13.3    No      1016.00  \n",
      "788     16.0    No      2739.00  \n",
      "Validation DataFrame:\n",
      "                                                 laptop       status  brand  \\\n",
      "132   MSI Raider GE68HX 13VF-045XES Intel Core i9-13...          New    MSI   \n",
      "80    HP Pavilion 15-eg2004ns Intel Core i7-1255U/16...          New     HP   \n",
      "1706  Acer Aspire 3 A315-56-52KD Intel Core i5-1035G...  Refurbished   Acer   \n",
      "1769  Apple Macbook Air Apple M2/8 GB/256GB SSD/GPU ...  Refurbished  Apple   \n",
      "541   Asus M515UA-EJ374 AMD Ryzen 5 5500U/8GB/512GB ...          New   Asus   \n",
      "\n",
      "            model            cpu  ram  storage storage_type       gpu  screen  \\\n",
      "132        Raider  Intel Core i9   32     1000          SSD  RTX 4060    16.0   \n",
      "80       Pavilion  Intel Core i7   16      512          SSD       NaN    15.6   \n",
      "1706       Aspire  Intel Core i5   12      512          SSD       NaN    15.6   \n",
      "1769  MacBook Air       Apple M2    8      256          SSD       NaN    13.6   \n",
      "541        M515UA    AMD Ryzen 5    8      512          SSD       NaN    15.6   \n",
      "\n",
      "     touch  final_price  \n",
      "132     No      2599.00  \n",
      "80      No       999.00  \n",
      "1706    No       477.28  \n",
      "1769    No      1519.00  \n",
      "541     No       402.99  \n",
      "Test DataFrame:\n",
      "                                                 laptop       status  \\\n",
      "1925  HP ZBook Fury G8 Intel Core i9-11900H/32GB/1TB...  Refurbished   \n",
      "612   Microsoft Surface Pro 9 Grafito Intel Evo Core...          New   \n",
      "443   MSI Katana GF66 12UE-1203XES Intel Core i5-124...          New   \n",
      "1002  LG Gram UltraSlim 15Z90RT-G.AA75B Intel Evo Co...          New   \n",
      "1077  Asus Rog Strix G15 G513QY-HQ008 AMD Ryzen 9 59...  Refurbished   \n",
      "\n",
      "          brand        model                cpu  ram  storage storage_type  \\\n",
      "1925         HP        Zbook      Intel Core i9   32     1000          SSD   \n",
      "612   Microsoft  Surface Pro  Intel Evo Core i7   16      512          SSD   \n",
      "443         MSI       Katana      Intel Core i5   16      512          SSD   \n",
      "1002         LG         Gram  Intel Evo Core i7   16      512          SSD   \n",
      "1077       Asus          ROG        AMD Ryzen 9   16     1000          SSD   \n",
      "\n",
      "           gpu  screen touch  final_price  \n",
      "1925       NaN    15.6    No      4805.65  \n",
      "612        NaN    13.0   Yes      2189.00  \n",
      "443   RTX 3060    15.6    No      1349.00  \n",
      "1002       NaN    15.0    No      2175.83  \n",
      "1077       NaN    15.6    No      1248.59  \n"
     ]
    }
   ],
   "source": [
    "import numpy as np\n",
    "\n",
    "# Set seed to 42 for reproducibility\n",
    "np.random.seed(42)\n",
    "\n",
    "# Get total number of examples\n",
    "n = len(df)\n",
    "\n",
    "# Calculate the number of examples for each set (train 60%, val 20%, test 20%)\n",
    "n_train = int(0.6 * n)\n",
    "n_val = int(0.2 * n)\n",
    "n_test = n - (n_train + n_val)  \n",
    "\n",
    "# Display the sizes of the train, val, and test sets\n",
    "print(f\"Number of training examples: {n_train}\")\n",
    "print(f\"Number of validation examples: {n_val}\")\n",
    "print(f\"Number of test examples: {n_test}\")\n",
    "\n",
    "# Shuffle the dataset\n",
    "idx = np.arange(n)\n",
    "np.random.shuffle(idx)\n",
    "\n",
    "# Shuffle the DataFrame based on the randomized indices\n",
    "df_shuffled = df.iloc[idx]\n",
    "\n",
    "# Split the shuffled DataFrame into train, val, and test sets\n",
    "df_train = df_shuffled.iloc[:n_train].copy()\n",
    "df_val = df_shuffled.iloc[n_train:n_train + n_val].copy()\n",
    "df_test = df_shuffled.iloc[n_train + n_val:].copy()\n",
    "\n",
    "# Display the first few rows of each set\n",
    "print(\"Training DataFrame:\")\n",
    "print(df_train.head())\n",
    "\n",
    "print(\"Validation DataFrame:\")\n",
    "print(df_val.head())\n",
    "\n",
    "print(\"Test DataFrame:\")\n",
    "print(df_test.head())\n"
   ]
  },
  {
   "cell_type": "code",
   "execution_count": null,
   "metadata": {},
   "outputs": [],
   "source": []
  }
 ],
 "metadata": {
  "kernelspec": {
   "display_name": "base",
   "language": "python",
   "name": "python3"
  },
  "language_info": {
   "codemirror_mode": {
    "name": "ipython",
    "version": 3
   },
   "file_extension": ".py",
   "mimetype": "text/x-python",
   "name": "python",
   "nbconvert_exporter": "python",
   "pygments_lexer": "ipython3",
   "version": "3.12.4"
  }
 },
 "nbformat": 4,
 "nbformat_minor": 2
}
